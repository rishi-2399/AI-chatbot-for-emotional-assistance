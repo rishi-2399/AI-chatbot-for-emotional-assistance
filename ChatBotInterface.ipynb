{
 "cells": [
  {
   "cell_type": "code",
   "execution_count": 1,
   "id": "dd11e3dc-1b2e-4e05-a0e0-69c50af1e22a",
   "metadata": {},
   "outputs": [
    {
     "data": {
      "application/vnd.jupyter.widget-view+json": {
       "model_id": "25e6f218dbe3490eaf06c5dcfb84d9fd",
       "version_major": 2,
       "version_minor": 0
      },
      "text/plain": [
       "VBox(children=(ToggleButtons(button_style='info', description='Model:', options=('LSTM', 'GRU'), value='LSTM')…"
      ]
     },
     "metadata": {},
     "output_type": "display_data"
    }
   ],
   "source": [
    "# voila_chatbot_ui.py\n",
    "import json\n",
    "import random\n",
    "import pickle\n",
    "import nltk\n",
    "from nltk.stem import WordNetLemmatizer\n",
    "from nltk.corpus import stopwords\n",
    "import tensorflow as tf\n",
    "from tensorflow.keras.preprocessing.sequence import pad_sequences\n",
    "from tensorflow.keras.preprocessing.text import Tokenizer\n",
    "import ipywidgets as widgets\n",
    "from IPython.display import display\n",
    "\n",
    "# Load models and resources\n",
    "model_lstm = tf.keras.models.load_model(\"lstm_model.keras\")\n",
    "model_gru = tf.keras.models.load_model(\"gru_model.keras\")\n",
    "with open(\"tokenizer.pkl\", \"rb\") as f:\n",
    "    tokenizer = pickle.load(f)\n",
    "with open(\"label_encoder.pkl\", \"rb\") as f:\n",
    "    lbl_encoder = pickle.load(f)\n",
    "with open(\"intents_1000_tags.json\", \"r\", encoding=\"utf-8\") as f:\n",
    "    data = json.load(f)\n",
    "\n",
    "lemmatizer = WordNetLemmatizer()\n",
    "stop_words = set(stopwords.words(\"english\"))\n",
    "classes = sorted(set(intent[\"tag\"] for intent in data[\"intents\"]))\n",
    "\n",
    "def preprocess_input(text):\n",
    "    tokens = nltk.word_tokenize(text.lower())\n",
    "    tokens = [lemmatizer.lemmatize(word) for word in tokens if word.isalnum() and word not in stop_words]\n",
    "    sequence = tokenizer.texts_to_sequences([\" \".join(tokens)])\n",
    "    return pad_sequences(sequence, maxlen=tokenizer.num_words, padding=\"post\")\n",
    "\n",
    "def predict_class(text, model):\n",
    "    padded = preprocess_input(text)\n",
    "    probs = model.predict(padded)[0]\n",
    "    threshold = 0.5\n",
    "    return [{\"intent\": classes[i], \"probability\": str(prob)} for i, prob in enumerate(probs) if prob > threshold]\n",
    "\n",
    "def get_response(intents_list):\n",
    "    tag = intents_list[0]['intent']\n",
    "    for intent in data[\"intents\"]:\n",
    "        if intent[\"tag\"] == tag:\n",
    "            return random.choice(intent[\"responses\"])\n",
    "    return \"I'm not sure how to respond to that.\"\n",
    "\n",
    "def chatbot_response(text, model_type):\n",
    "    model = model_lstm if model_type == \"LSTM\" else model_gru\n",
    "    intents = predict_class(text, model)\n",
    "    return get_response(intents) if intents else \"Sorry, I didn't get that.\"\n",
    "\n",
    "chat_output = widgets.Output()\n",
    "chat_input = widgets.Text(placeholder=\"Type your message here...\", layout=widgets.Layout(width=\"70%\"))\n",
    "send_button = widgets.Button(description=\"Send\", layout=widgets.Layout(width=\"25%\"))\n",
    "model_selector = widgets.ToggleButtons(options=[\"LSTM\", \"GRU\"], value=\"LSTM\", description=\"Model:\", button_style=\"info\")\n",
    "\n",
    "def on_send_click(_):\n",
    "    with chat_output:\n",
    "        text = chat_input.value.strip()\n",
    "        if text:\n",
    "            chat_input.value = \"\"\n",
    "            chat_output.append_stdout(f\"You: {text}\\n\")\n",
    "            response = chatbot_response(text, model_selector.value)\n",
    "            chat_output.append_stdout(f\"Bot: {response}\\n\\n\")\n",
    "\n",
    "send_button.on_click(on_send_click)\n",
    "display(widgets.VBox([model_selector, chat_output, widgets.HBox([chat_input, send_button])]))\n"
   ]
  },
  {
   "cell_type": "code",
   "execution_count": null,
   "id": "72a6ddcf-8085-4d08-be23-f61a39e648f6",
   "metadata": {},
   "outputs": [],
   "source": []
  }
 ],
 "metadata": {
  "kernelspec": {
   "display_name": "Python 3 (ipykernel)",
   "language": "python",
   "name": "python3"
  },
  "language_info": {
   "codemirror_mode": {
    "name": "ipython",
    "version": 3
   },
   "file_extension": ".py",
   "mimetype": "text/x-python",
   "name": "python",
   "nbconvert_exporter": "python",
   "pygments_lexer": "ipython3",
   "version": "3.12.7"
  }
 },
 "nbformat": 4,
 "nbformat_minor": 5
}
